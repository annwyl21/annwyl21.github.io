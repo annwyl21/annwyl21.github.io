{
  "nbformat": 4,
  "nbformat_minor": 0,
  "metadata": {
    "colab": {
      "provenance": [],
      "authorship_tag": "ABX9TyNCPtyusM9PGA9BTvwdVc22",
      "include_colab_link": true
    },
    "kernelspec": {
      "name": "python3",
      "display_name": "Python 3"
    },
    "language_info": {
      "name": "python"
    }
  },
  "cells": [
    {
      "cell_type": "markdown",
      "metadata": {
        "id": "view-in-github",
        "colab_type": "text"
      },
      "source": [
        "<a href=\"https://colab.research.google.com/github/annwyl21/annwyl21.github.io/blob/main/anOverloadedOperator.ipynb\" target=\"_parent\"><img src=\"https://colab.research.google.com/assets/colab-badge.svg\" alt=\"Open In Colab\"/></a>"
      ]
    },
    {
      "cell_type": "markdown",
      "source": [
        "Python * operator\n",
        "\n",
        "* is an overloaded operator in Python"
      ],
      "metadata": {
        "id": "-gmYpUxuK_WS"
      }
    },
    {
      "cell_type": "markdown",
      "source": [
        "\n",
        "\n",
        "'*' is used to multiply\n",
        "\n"
      ],
      "metadata": {
        "id": "HAGpHvqWLSFR"
      }
    },
    {
      "cell_type": "code",
      "execution_count": 16,
      "metadata": {
        "colab": {
          "base_uri": "https://localhost:8080/",
          "height": 36
        },
        "id": "Hh5-ca8YK9hq",
        "outputId": "e334a854-7f2e-44bb-c85a-a9bf85241cd9"
      },
      "outputs": [
        {
          "output_type": "execute_result",
          "data": {
            "text/plain": [
              "'Using * to multiply numbers: 5 * 10 = 50'"
            ],
            "application/vnd.google.colaboratory.intrinsic+json": {
              "type": "string"
            }
          },
          "metadata": {},
          "execution_count": 16
        }
      ],
      "source": [
        "n1 = 5\n",
        "n2 = 10\n",
        "f\"Using * to multiply numbers: {n1} * {n2} = {n1*n2}\""
      ]
    },
    {
      "cell_type": "markdown",
      "source": [
        "'*' is used for power"
      ],
      "metadata": {
        "id": "n74BPtIiLky4"
      }
    },
    {
      "cell_type": "code",
      "source": [
        "f\"{n1} squared is {n1**2}, \""
      ],
      "metadata": {
        "colab": {
          "base_uri": "https://localhost:8080/",
          "height": 36
        },
        "id": "XLQ4FQLCLsUY",
        "outputId": "b3678ef1-661b-4c24-b8aa-f0770e3abba7"
      },
      "execution_count": 17,
      "outputs": [
        {
          "output_type": "execute_result",
          "data": {
            "text/plain": [
              "'5 squared is 25, '"
            ],
            "application/vnd.google.colaboratory.intrinsic+json": {
              "type": "string"
            }
          },
          "metadata": {},
          "execution_count": 17
        }
      ]
    },
    {
      "cell_type": "markdown",
      "source": [
        "'*' is used to repeat"
      ],
      "metadata": {
        "id": "e66MKbzULyTR"
      }
    },
    {
      "cell_type": "code",
      "source": [
        "myname = 'Ellen'\n",
        "f\"Using * to repeat a string:\\n{myname*15}\""
      ],
      "metadata": {
        "colab": {
          "base_uri": "https://localhost:8080/"
        },
        "id": "25y-9AZBL2eQ",
        "outputId": "4d41361b-a353-4670-9c59-fa34528ad90b"
      },
      "execution_count": 3,
      "outputs": [
        {
          "output_type": "stream",
          "name": "stdout",
          "text": [
            "Using * to repeat a string:\n",
            "EllenEllenEllenEllenEllenEllenEllenEllenEllenEllenEllenEllenEllenEllenEllen\n"
          ]
        }
      ]
    },
    {
      "cell_type": "markdown",
      "source": [
        "'*' is used to unpack a variadic function (*args)\n",
        "\n",
        "*a variadic function takes an indefinite number of arguments*"
      ],
      "metadata": {
        "id": "X31NdOTIMFoI"
      }
    },
    {
      "cell_type": "code",
      "source": [
        "def a_varidaic_function(mother, *children):\n",
        "\treturn f\"Mother is a positional argument, {mother}\", f\"The arguments passed to the parameter of 'children' are collected in a tuple, that is accessed using the parameter keyword {children}\"\n",
        "\n",
        "a_varidaic_function('Ellen', 'Hansel', 'Gretel')"
      ],
      "metadata": {
        "colab": {
          "base_uri": "https://localhost:8080/"
        },
        "id": "zof42yvHMVlX",
        "outputId": "d4553a55-b9b2-47c3-db51-775531a91f51"
      },
      "execution_count": 19,
      "outputs": [
        {
          "output_type": "execute_result",
          "data": {
            "text/plain": [
              "('Mother is a positional argument, Ellen',\n",
              " \"The arguments passed to the parameter of 'children' are collected in a tuple, that is accessed using the parameter keyword ('Hansel', 'Gretel')\")"
            ]
          },
          "metadata": {},
          "execution_count": 19
        }
      ]
    },
    {
      "cell_type": "markdown",
      "source": [
        "'*' is used to add keyword arguments in a parameter (kwargs)\n",
        "\n",
        "*kwargs must go at the end of the parameters list*\n",
        "\n",
        "The keyword arguments are stored in an invisible dictionary and can be accessed in the same way  a dictionary is typically accessed in Python\n",
        "temperature[‘celsius’] will give the value of 200C\n",
        "temperature[‘fahrenheit’] could also be used to access the 400F\n",
        "allowing the values C or F to be handled differently in the code, as below using the conditional statement to eventually reach the gas mark keyword argument and access the approipriate print statement\n"
      ],
      "metadata": {
        "id": "9If1r13BL8g3"
      }
    },
    {
      "cell_type": "code",
      "source": [
        "def ovens(**temperature):\n",
        "\tif 'celsius' in temperature: # if celsius is in the keys of the invisible dictionary carry out this operation\n",
        "\t\treturn f\"Set your over to {temperature['celsius']}C\"\n",
        "\telif 'fahrenheit' in temperature:\n",
        "\t\treturn f\"Set your oven to {temperature['fahrenheit']}F\"\n",
        "\telif 'gas_mark' in temperature:\n",
        "\t\treturn f\"Set your oven to Gas Mark {temperature['gas_mark']}\"\n",
        "\telse:\n",
        "\t\treturn\"Airfryers are not yet recognised on most packaging!\"\n",
        "\n",
        "ovens(gas_mark=6)"
      ],
      "metadata": {
        "colab": {
          "base_uri": "https://localhost:8080/",
          "height": 36
        },
        "id": "oS2bmeunM5Y_",
        "outputId": "1317b282-ca4b-4f08-fa9f-c8734321e1f8"
      },
      "execution_count": 20,
      "outputs": [
        {
          "output_type": "execute_result",
          "data": {
            "text/plain": [
              "'Set your oven to Gas Mark 6'"
            ],
            "application/vnd.google.colaboratory.intrinsic+json": {
              "type": "string"
            }
          },
          "metadata": {},
          "execution_count": 20
        }
      ]
    },
    {
      "cell_type": "markdown",
      "source": [
        "'*' to enforce named parameters instead of positional arguments"
      ],
      "metadata": {
        "id": "pdWHVoCHNH_e"
      }
    },
    {
      "cell_type": "markdown",
      "source": [
        "Positional Arguments - the position determines whether the argument is attached to the first parameter\n",
        "\n",
        "salary=25000 and tax=5000\n",
        "these are assigned because the arguments sent in to the function appeared in a particular position 25000 was first so it was assigned to the parameter salary which was first"
      ],
      "metadata": {
        "id": "yl4EcF6rOFFW"
      }
    },
    {
      "cell_type": "code",
      "source": [
        "def salary_calculator(salary, tax):\n",
        "\treturn salary - tax\n",
        "\n",
        "salary_calculator(25000, 5000)"
      ],
      "metadata": {
        "colab": {
          "base_uri": "https://localhost:8080/"
        },
        "id": "nECJll1vOQUe",
        "outputId": "351f5014-e4c9-429b-c06d-e19df3a19a17"
      },
      "execution_count": 25,
      "outputs": [
        {
          "output_type": "execute_result",
          "data": {
            "text/plain": [
              "20000"
            ]
          },
          "metadata": {},
          "execution_count": 25
        }
      ]
    },
    {
      "cell_type": "markdown",
      "source": [
        "Named Parameters - the parameter name must be used to enter the argument\n",
        "\n",
        "Using named parameters means there is less room for confusion in important parameters such as confusing tax and salary,\n",
        "but it also means that the parameters can be entered out of order"
      ],
      "metadata": {
        "id": "ZOBdHTmlOvt9"
      }
    },
    {
      "cell_type": "code",
      "source": [
        "def better_salary_calc(*, salary, tax): # * is used here\n",
        "\treturn salary - tax\n",
        "\n",
        "better_salary_calc(tax=5000, salary=25000)"
      ],
      "metadata": {
        "colab": {
          "base_uri": "https://localhost:8080/"
        },
        "id": "oPueN51UOsvW",
        "outputId": "b3baa6b8-473f-455d-8b30-d2afa10212f7"
      },
      "execution_count": 26,
      "outputs": [
        {
          "output_type": "execute_result",
          "data": {
            "text/plain": [
              "20000"
            ]
          },
          "metadata": {},
          "execution_count": 26
        }
      ]
    },
    {
      "cell_type": "markdown",
      "source": [
        "'*' Passing and Unpacking arguments to a function and having them unpacked automatically\n",
        "\n",
        "*The number of elements in the tuple MUST match the number of parameters*"
      ],
      "metadata": {
        "id": "8Xh7F7BIPNk1"
      }
    },
    {
      "cell_type": "code",
      "source": [
        "mycomplicatedtuple = (100, 200, 300)\n",
        "def my_complicated_function(a, b, c):\n",
        "\treturn a+b+c\n",
        "\n",
        "my_complicated_function(*mycomplicatedtuple) # * is used here"
      ],
      "metadata": {
        "colab": {
          "base_uri": "https://localhost:8080/"
        },
        "id": "ghp-PvCcPXuk",
        "outputId": "8d9cc359-1e06-4ff0-e399-6d02bdef90a5"
      },
      "execution_count": 27,
      "outputs": [
        {
          "output_type": "execute_result",
          "data": {
            "text/plain": [
              "600"
            ]
          },
          "metadata": {},
          "execution_count": 27
        }
      ]
    },
    {
      "cell_type": "markdown",
      "source": [
        "'*' for extended iterable unpacking\n",
        "Here is is known as the 'wildcard'\n",
        "\n",
        "Extended Iterable Unpacking\n",
        "\n",
        "means that teacher is Mrs Peters\n",
        "\n",
        "and all the pupils can be grouped together in ['Sophie', 'James', 'Rogan', 'Sally', 'Margaret']"
      ],
      "metadata": {
        "id": "I57agJdBPv41"
      }
    },
    {
      "cell_type": "code",
      "source": [
        "myclass = ('Mrs Peters', 'Sophie', 'James', 'Rogan', 'Sally', 'Margaret')\n",
        "teacher, *pupils = myclass # * at the end\n",
        "f\"Teacher: {teacher} and Pupils: {pupils}\""
      ],
      "metadata": {
        "colab": {
          "base_uri": "https://localhost:8080/",
          "height": 36
        },
        "id": "AjHJU5C-P8vb",
        "outputId": "7fa12170-2067-41ad-cc50-90cdf67b3afa"
      },
      "execution_count": 30,
      "outputs": [
        {
          "output_type": "execute_result",
          "data": {
            "text/plain": [
              "\"Teacher: Mrs Peters and Pupils: ['Sophie', 'James', 'Rogan', 'Sally', 'Margaret']\""
            ],
            "application/vnd.google.colaboratory.intrinsic+json": {
              "type": "string"
            }
          },
          "metadata": {},
          "execution_count": 30
        }
      ]
    },
    {
      "cell_type": "markdown",
      "source": [
        "Or like this...\n",
        "\n",
        "The order doesn't matter because python is smart at unpacking"
      ],
      "metadata": {
        "id": "SmkLQN5tQD0E"
      }
    },
    {
      "cell_type": "code",
      "source": [
        "anotherclass = ('Phillip', 'Markus', 'Abdul', 'Mrs Simons')\n",
        "*kids, their_teacher = anotherclass # * at the start\n",
        "print(f\"Pupils: {kids} Teacher: {their_teacher}\")"
      ],
      "metadata": {
        "colab": {
          "base_uri": "https://localhost:8080/"
        },
        "id": "KJpIuBB-QGMM",
        "outputId": "a4187230-d0c3-443f-c8ed-4d334f502dcb"
      },
      "execution_count": 31,
      "outputs": [
        {
          "output_type": "stream",
          "name": "stdout",
          "text": [
            "Pupils: ['Phillip', 'Markus', 'Abdul'] Teacher: Mrs Simons\n"
          ]
        }
      ]
    },
    {
      "cell_type": "markdown",
      "source": [
        "Or even like this...\n",
        "\n",
        "Isn't that clever!"
      ],
      "metadata": {
        "id": "SfKgimTPQKDb"
      }
    },
    {
      "cell_type": "code",
      "source": [
        "class_trip = ('Mrs Mathews', 'Paul', 'Tammy', 'Alice', 'Mrs Peters', 'Mr Simons')\n",
        "classteacher, *kids_on_trip, staffmember, parenthelper = class_trip # * in the middle\n",
        "print(f\"{classteacher}, {kids_on_trip}, {staffmember}, {parenthelper}\")"
      ],
      "metadata": {
        "colab": {
          "base_uri": "https://localhost:8080/"
        },
        "id": "qvOcVYM0QNS0",
        "outputId": "f361a3ed-91bf-4671-8156-1ead0ea31b15"
      },
      "execution_count": 32,
      "outputs": [
        {
          "output_type": "stream",
          "name": "stdout",
          "text": [
            "Mrs Mathews, ['Paul', 'Tammy', 'Alice'], Mrs Peters, Mr Simons\n"
          ]
        }
      ]
    },
    {
      "cell_type": "markdown",
      "source": [
        "That must be why Python is magic***"
      ],
      "metadata": {
        "id": "jRGHd821QUyj"
      }
    }
  ]
}